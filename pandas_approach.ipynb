{
 "metadata": {
  "name": "",
  "signature": "sha256:231ceed9458be55229b925df67aee294d103c35c3f4ad4a8ff7043f056b170bf"
 },
 "nbformat": 3,
 "nbformat_minor": 0,
 "worksheets": [
  {
   "cells": [
    {
     "cell_type": "markdown",
     "metadata": {},
     "source": [
      "# Pandas CSV Load, Sort, Report Implementation"
     ]
    },
    {
     "cell_type": "code",
     "collapsed": false,
     "input": [
      "import pandas"
     ],
     "language": "python",
     "metadata": {},
     "outputs": [],
     "prompt_number": 1
    },
    {
     "cell_type": "code",
     "collapsed": false,
     "input": [
      "# Make IPython show plots inline\n",
      "%matplotlib inline\n",
      "\n",
      "# Make the graphs look prettier and larger\n",
      "pandas.set_option('display.mpl_style', 'default')"
     ],
     "language": "python",
     "metadata": {},
     "outputs": [],
     "prompt_number": 14
    },
    {
     "cell_type": "markdown",
     "metadata": {},
     "source": [
      "#### Read in the csv data"
     ]
    },
    {
     "cell_type": "code",
     "collapsed": false,
     "input": [
      "data = pandas.read_csv('testdata.csv', index_col='ID', parse_dates=['Date of 3rd Grade Graduation'])\n",
      "data"
     ],
     "language": "python",
     "metadata": {},
     "outputs": [
      {
       "html": [
        "<div style=\"max-height:1000px;max-width:1500px;overflow:auto;\">\n",
        "<table border=\"1\" class=\"dataframe\">\n",
        "  <thead>\n",
        "    <tr style=\"text-align: right;\">\n",
        "      <th></th>\n",
        "      <th>First</th>\n",
        "      <th>Last</th>\n",
        "      <th>Age</th>\n",
        "      <th>GithubAcct</th>\n",
        "      <th>Date of 3rd Grade Graduation</th>\n",
        "    </tr>\n",
        "    <tr>\n",
        "      <th>ID</th>\n",
        "      <th></th>\n",
        "      <th></th>\n",
        "      <th></th>\n",
        "      <th></th>\n",
        "      <th></th>\n",
        "    </tr>\n",
        "  </thead>\n",
        "  <tbody>\n",
        "    <tr>\n",
        "      <th>1</th>\n",
        "      <td>     Matt</td>\n",
        "      <td>  Conway</td>\n",
        "      <td> 22</td>\n",
        "      <td> wr0ngway</td>\n",
        "      <td>2001-06-25</td>\n",
        "    </tr>\n",
        "    <tr>\n",
        "      <th>2</th>\n",
        "      <td>    David</td>\n",
        "      <td>   Block</td>\n",
        "      <td> 76</td>\n",
        "      <td>      NaN</td>\n",
        "      <td>2040-06-24</td>\n",
        "    </tr>\n",
        "    <tr>\n",
        "      <th>3</th>\n",
        "      <td>      NaN</td>\n",
        "      <td> Robiner</td>\n",
        "      <td> 16</td>\n",
        "      <td>      NaN</td>\n",
        "      <td>2007-06-25</td>\n",
        "    </tr>\n",
        "    <tr>\n",
        "      <th>4</th>\n",
        "      <td>      Rob</td>\n",
        "      <td>     May</td>\n",
        "      <td>NaN</td>\n",
        "      <td>      NaN</td>\n",
        "      <td>1988-06-25</td>\n",
        "    </tr>\n",
        "    <tr>\n",
        "      <th>5</th>\n",
        "      <td>    Jason</td>\n",
        "      <td>     NaN</td>\n",
        "      <td> 30</td>\n",
        "      <td>  haruska</td>\n",
        "      <td>       NaT</td>\n",
        "    </tr>\n",
        "    <tr>\n",
        "      <th>6</th>\n",
        "      <td>     Alex</td>\n",
        "      <td> Robiner</td>\n",
        "      <td> 25</td>\n",
        "      <td>    a-rob</td>\n",
        "      <td>2003-01-01</td>\n",
        "    </tr>\n",
        "    <tr>\n",
        "      <th>7</th>\n",
        "      <td> Lawrence</td>\n",
        "      <td> Robiner</td>\n",
        "      <td> 50</td>\n",
        "      <td>      NaN</td>\n",
        "      <td>1970-03-26</td>\n",
        "    </tr>\n",
        "  </tbody>\n",
        "</table>\n",
        "</div>"
       ],
       "metadata": {},
       "output_type": "pyout",
       "prompt_number": 10,
       "text": [
        "       First     Last  Age GithubAcct Date of 3rd Grade Graduation\n",
        "ID                                                                \n",
        "1       Matt   Conway   22   wr0ngway                   2001-06-25\n",
        "2      David    Block   76        NaN                   2040-06-24\n",
        "3        NaN  Robiner   16        NaN                   2007-06-25\n",
        "4        Rob      May  NaN        NaN                   1988-06-25\n",
        "5      Jason      NaN   30    haruska                          NaT\n",
        "6       Alex  Robiner   25      a-rob                   2003-01-01\n",
        "7   Lawrence  Robiner   50        NaN                   1970-03-26"
       ]
      }
     ],
     "prompt_number": 10
    },
    {
     "cell_type": "markdown",
     "metadata": {},
     "source": [
      "#### Get an idea of the last name groupings"
     ]
    },
    {
     "cell_type": "code",
     "collapsed": false,
     "input": [
      "people_per_last_name = data['Last'].value_counts()\n",
      "people_per_last_name.plot(kind='bar')"
     ],
     "language": "python",
     "metadata": {},
     "outputs": [
      {
       "metadata": {},
       "output_type": "pyout",
       "prompt_number": 15,
       "text": [
        "<matplotlib.axes.AxesSubplot at 0x111849b90>"
       ]
      },
      {
       "metadata": {},
       "output_type": "display_data",
       "png": "[encoded data removed]",
       "text": [
        "<matplotlib.figure.Figure at 0x1118495d0>"
       ]
      }
     ],
     "prompt_number": 15
    },
    {
     "cell_type": "markdown",
     "metadata": {},
     "source": [
      "### Operation 1\n",
      "(Given a last name, return a list of all person ids with that last name.)"
     ]
    },
    {
     "cell_type": "code",
     "collapsed": false,
     "input": [
      "LAST_NAME = \"Robiner\"  # Change the value here, and rerun these cells to see the new output"
     ],
     "language": "python",
     "metadata": {},
     "outputs": [],
     "prompt_number": 16
    },
    {
     "cell_type": "code",
     "collapsed": false,
     "input": [
      "ppl_with_last_name = data[data['Last'] == LAST_NAME]\n",
      "print(\"Person ID's with the last name '{}': {}\".format(LAST_NAME, ppl_with_last_name.index.values))\n",
      "ppl_with_last_name"
     ],
     "language": "python",
     "metadata": {},
     "outputs": [
      {
       "output_type": "stream",
       "stream": "stdout",
       "text": [
        "Person ID's with the last name 'Robiner': [3 6 7]\n"
       ]
      },
      {
       "html": [
        "<div style=\"max-height:1000px;max-width:1500px;overflow:auto;\">\n",
        "<table border=\"1\" class=\"dataframe\">\n",
        "  <thead>\n",
        "    <tr style=\"text-align: right;\">\n",
        "      <th></th>\n",
        "      <th>First</th>\n",
        "      <th>Last</th>\n",
        "      <th>Age</th>\n",
        "      <th>GithubAcct</th>\n",
        "      <th>Date of 3rd Grade Graduation</th>\n",
        "    </tr>\n",
        "    <tr>\n",
        "      <th>ID</th>\n",
        "      <th></th>\n",
        "      <th></th>\n",
        "      <th></th>\n",
        "      <th></th>\n",
        "      <th></th>\n",
        "    </tr>\n",
        "  </thead>\n",
        "  <tbody>\n",
        "    <tr>\n",
        "      <th>3</th>\n",
        "      <td>      NaN</td>\n",
        "      <td> Robiner</td>\n",
        "      <td> 16</td>\n",
        "      <td>   NaN</td>\n",
        "      <td>2007-06-25</td>\n",
        "    </tr>\n",
        "    <tr>\n",
        "      <th>6</th>\n",
        "      <td>     Alex</td>\n",
        "      <td> Robiner</td>\n",
        "      <td> 25</td>\n",
        "      <td> a-rob</td>\n",
        "      <td>2003-01-01</td>\n",
        "    </tr>\n",
        "    <tr>\n",
        "      <th>7</th>\n",
        "      <td> Lawrence</td>\n",
        "      <td> Robiner</td>\n",
        "      <td> 50</td>\n",
        "      <td>   NaN</td>\n",
        "      <td>1970-03-26</td>\n",
        "    </tr>\n",
        "  </tbody>\n",
        "</table>\n",
        "</div>"
       ],
       "metadata": {},
       "output_type": "pyout",
       "prompt_number": 34,
       "text": [
        "       First     Last  Age GithubAcct Date of 3rd Grade Graduation\n",
        "ID                                                                \n",
        "3        NaN  Robiner   16        NaN                   2007-06-25\n",
        "6       Alex  Robiner   25      a-rob                   2003-01-01\n",
        "7   Lawrence  Robiner   50        NaN                   1970-03-26"
       ]
      }
     ],
     "prompt_number": 34
    },
    {
     "cell_type": "markdown",
     "metadata": {},
     "source": [
      "### Operation 2\n",
      "(Return a list of all people in the dataset, sorted by age. People with no age present in their data should sort to the end.)"
     ]
    },
    {
     "cell_type": "code",
     "collapsed": false,
     "input": [
      "data.sort('Age')"
     ],
     "language": "python",
     "metadata": {},
     "outputs": [
      {
       "html": [
        "<div style=\"max-height:1000px;max-width:1500px;overflow:auto;\">\n",
        "<table border=\"1\" class=\"dataframe\">\n",
        "  <thead>\n",
        "    <tr style=\"text-align: right;\">\n",
        "      <th></th>\n",
        "      <th>First</th>\n",
        "      <th>Last</th>\n",
        "      <th>Age</th>\n",
        "      <th>GithubAcct</th>\n",
        "      <th>Date of 3rd Grade Graduation</th>\n",
        "    </tr>\n",
        "    <tr>\n",
        "      <th>ID</th>\n",
        "      <th></th>\n",
        "      <th></th>\n",
        "      <th></th>\n",
        "      <th></th>\n",
        "      <th></th>\n",
        "    </tr>\n",
        "  </thead>\n",
        "  <tbody>\n",
        "    <tr>\n",
        "      <th>3</th>\n",
        "      <td>      NaN</td>\n",
        "      <td> Robiner</td>\n",
        "      <td> 16</td>\n",
        "      <td>      NaN</td>\n",
        "      <td>2007-06-25</td>\n",
        "    </tr>\n",
        "    <tr>\n",
        "      <th>1</th>\n",
        "      <td>     Matt</td>\n",
        "      <td>  Conway</td>\n",
        "      <td> 22</td>\n",
        "      <td> wr0ngway</td>\n",
        "      <td>2001-06-25</td>\n",
        "    </tr>\n",
        "    <tr>\n",
        "      <th>6</th>\n",
        "      <td>     Alex</td>\n",
        "      <td> Robiner</td>\n",
        "      <td> 25</td>\n",
        "      <td>    a-rob</td>\n",
        "      <td>2003-01-01</td>\n",
        "    </tr>\n",
        "    <tr>\n",
        "      <th>5</th>\n",
        "      <td>    Jason</td>\n",
        "      <td>     NaN</td>\n",
        "      <td> 30</td>\n",
        "      <td>  haruska</td>\n",
        "      <td>       NaT</td>\n",
        "    </tr>\n",
        "    <tr>\n",
        "      <th>7</th>\n",
        "      <td> Lawrence</td>\n",
        "      <td> Robiner</td>\n",
        "      <td> 50</td>\n",
        "      <td>      NaN</td>\n",
        "      <td>1970-03-26</td>\n",
        "    </tr>\n",
        "    <tr>\n",
        "      <th>2</th>\n",
        "      <td>    David</td>\n",
        "      <td>   Block</td>\n",
        "      <td> 76</td>\n",
        "      <td>      NaN</td>\n",
        "      <td>2040-06-24</td>\n",
        "    </tr>\n",
        "    <tr>\n",
        "      <th>4</th>\n",
        "      <td>      Rob</td>\n",
        "      <td>     May</td>\n",
        "      <td>NaN</td>\n",
        "      <td>      NaN</td>\n",
        "      <td>1988-06-25</td>\n",
        "    </tr>\n",
        "  </tbody>\n",
        "</table>\n",
        "</div>"
       ],
       "metadata": {},
       "output_type": "pyout",
       "prompt_number": 35,
       "text": [
        "       First     Last  Age GithubAcct Date of 3rd Grade Graduation\n",
        "ID                                                                \n",
        "3        NaN  Robiner   16        NaN                   2007-06-25\n",
        "1       Matt   Conway   22   wr0ngway                   2001-06-25\n",
        "6       Alex  Robiner   25      a-rob                   2003-01-01\n",
        "5      Jason      NaN   30    haruska                          NaT\n",
        "7   Lawrence  Robiner   50        NaN                   1970-03-26\n",
        "2      David    Block   76        NaN                   2040-06-24\n",
        "4        Rob      May  NaN        NaN                   1988-06-25"
       ]
      }
     ],
     "prompt_number": 35
    },
    {
     "cell_type": "code",
     "collapsed": false,
     "input": [],
     "language": "python",
     "metadata": {},
     "outputs": []
    }
   ],
   "metadata": {}
  }
 ]
}